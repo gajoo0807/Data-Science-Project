{
 "cells": [
  {
   "cell_type": "code",
   "execution_count": 49,
   "metadata": {},
   "outputs": [],
   "source": [
    "import pandas as pd\n",
    "import numpy as np\n",
    "import matplotlib.pyplot as plt\n",
    "from sklearn.preprocessing import OneHotEncoder\n",
    "from imblearn.over_sampling import SMOTE\n",
    "from imblearn.over_sampling import BorderlineSMOTE\n",
    "import imblearn\n",
    "from imblearn import under_sampling, over_sampling\n",
    "from imblearn.over_sampling import RandomOverSampler"
   ]
  },
  {
   "cell_type": "code",
   "execution_count": 52,
   "metadata": {},
   "outputs": [
    {
     "name": "stdout",
     "output_type": "stream",
     "text": [
      "(82140, 18)\n"
     ]
    }
   ],
   "source": [
    "df = pd.read_csv('train.csv')\n",
    "Label=df['Label']\n",
    "#oversampling\n",
    "oversample = RandomOverSampler(sampling_strategy=0.5)\n",
    "df,y_resempled=oversample.fit_resample(df,Label)\n",
    "train_end_idx = len(df) \n",
    "df_test = pd.read_csv('test.csv')\n",
    "df_test['Label'] = np.zeros((len(df_test),))\n",
    "\n",
    "# 為了處理方便，把 'train.csv' 和 'test.csv' 合併起來，'test.csv'的 RainToday 欄位用 0 補起來。\n",
    "# 以 train_end_idx 作為 'train.csv' 和 'test.csv' 分界列，\n",
    "df = pd.concat([df, df_test], sort=False)\n",
    "#pd.concat為合併兩DataFrame\n",
    "df.drop([\"Date\",\"Loc\",\"DayWindDir\",\"NightWindDir\"],inplace=True,axis=1)\n",
    "print(df.shape)"
   ]
  },
  {
   "cell_type": "code",
   "execution_count": 53,
   "metadata": {},
   "outputs": [
    {
     "name": "stdout",
     "output_type": "stream",
     "text": [
      "82140\n"
     ]
    }
   ],
   "source": [
    "Label=df['Label']\n",
    "df.drop(['Label'],inplace=True,axis=1)\n",
    "print(len(Label))\n",
    "col=df.columns"
   ]
  },
  {
   "cell_type": "code",
   "execution_count": 54,
   "metadata": {},
   "outputs": [],
   "source": [
    "from category_encoders.target_encoder import TargetEncoder\n",
    "enc=TargetEncoder()\n",
    "df['WindDir']=enc.fit_transform(df['WindDir'],df['WindSpeed'])"
   ]
  },
  {
   "cell_type": "code",
   "execution_count": 55,
   "metadata": {},
   "outputs": [
    {
     "name": "stderr",
     "output_type": "stream",
     "text": [
      "/Users/wuguanzhi/opt/anaconda3/lib/python3.8/site-packages/sklearn/impute/_iterative.py:699: ConvergenceWarning: [IterativeImputer] Early stopping criterion not reached.\n",
      "  warnings.warn(\n"
     ]
    }
   ],
   "source": [
    "#透過sklearn補值\n",
    "from sklearn.experimental import enable_iterative_imputer\n",
    "from sklearn.impute import IterativeImputer\n",
    "imp = IterativeImputer(max_iter=1, random_state=0)\n",
    "df=imp.fit_transform(df)\n",
    "df=pd.DataFrame(df,columns=col)"
   ]
  },
  {
   "cell_type": "code",
   "execution_count": 56,
   "metadata": {},
   "outputs": [],
   "source": [
    "#處理異常值概貌法可用\n",
    "def cap(df,quantile=[0.01,0.99]):\n",
    "    Q01,Q99=df.quantile(quantile).values.tolist()\n",
    "        # 替换异常值为指定的分位数\n",
    "    if Q01 > df.min():\n",
    "        df.loc[df <=Q01] = Q01  \n",
    "    if Q99 < df.max():\n",
    "        df.loc[df >= Q99] = Q99\n",
    "for i in df:\n",
    "    cap(df[i])"
   ]
  },
  {
   "cell_type": "code",
   "execution_count": 57,
   "metadata": {},
   "outputs": [
    {
     "data": {
      "text/html": [
       "<div>\n",
       "<style scoped>\n",
       "    .dataframe tbody tr th:only-of-type {\n",
       "        vertical-align: middle;\n",
       "    }\n",
       "\n",
       "    .dataframe tbody tr th {\n",
       "        vertical-align: top;\n",
       "    }\n",
       "\n",
       "    .dataframe thead th {\n",
       "        text-align: right;\n",
       "    }\n",
       "</style>\n",
       "<table border=\"1\" class=\"dataframe\">\n",
       "  <thead>\n",
       "    <tr style=\"text-align: right;\">\n",
       "      <th></th>\n",
       "      <th>TempLow</th>\n",
       "      <th>TempHigh</th>\n",
       "      <th>Evaporation</th>\n",
       "      <th>Sun</th>\n",
       "      <th>WindDir</th>\n",
       "      <th>WindSpeed</th>\n",
       "      <th>WindSpeed9am</th>\n",
       "      <th>WindSpeed3pm</th>\n",
       "      <th>DayHumidity</th>\n",
       "      <th>NightHumidity</th>\n",
       "      <th>Pressure9am</th>\n",
       "      <th>Pressure3pm</th>\n",
       "      <th>DayCloud</th>\n",
       "      <th>NightCloud</th>\n",
       "      <th>Temp9am</th>\n",
       "      <th>Temp3pm</th>\n",
       "      <th>RISK_MM</th>\n",
       "    </tr>\n",
       "    <tr>\n",
       "      <th>Label</th>\n",
       "      <th></th>\n",
       "      <th></th>\n",
       "      <th></th>\n",
       "      <th></th>\n",
       "      <th></th>\n",
       "      <th></th>\n",
       "      <th></th>\n",
       "      <th></th>\n",
       "      <th></th>\n",
       "      <th></th>\n",
       "      <th></th>\n",
       "      <th></th>\n",
       "      <th></th>\n",
       "      <th></th>\n",
       "      <th></th>\n",
       "      <th></th>\n",
       "      <th></th>\n",
       "    </tr>\n",
       "  </thead>\n",
       "  <tbody>\n",
       "    <tr>\n",
       "      <th>0.0</th>\n",
       "      <td>66375</td>\n",
       "      <td>66375</td>\n",
       "      <td>66375</td>\n",
       "      <td>66375</td>\n",
       "      <td>66375</td>\n",
       "      <td>66375</td>\n",
       "      <td>66375</td>\n",
       "      <td>66375</td>\n",
       "      <td>66375</td>\n",
       "      <td>66375</td>\n",
       "      <td>66375</td>\n",
       "      <td>66375</td>\n",
       "      <td>66375</td>\n",
       "      <td>66375</td>\n",
       "      <td>66375</td>\n",
       "      <td>66375</td>\n",
       "      <td>66375</td>\n",
       "    </tr>\n",
       "    <tr>\n",
       "      <th>1.0</th>\n",
       "      <td>15765</td>\n",
       "      <td>15765</td>\n",
       "      <td>15765</td>\n",
       "      <td>15765</td>\n",
       "      <td>15765</td>\n",
       "      <td>15765</td>\n",
       "      <td>15765</td>\n",
       "      <td>15765</td>\n",
       "      <td>15765</td>\n",
       "      <td>15765</td>\n",
       "      <td>15765</td>\n",
       "      <td>15765</td>\n",
       "      <td>15765</td>\n",
       "      <td>15765</td>\n",
       "      <td>15765</td>\n",
       "      <td>15765</td>\n",
       "      <td>15765</td>\n",
       "    </tr>\n",
       "  </tbody>\n",
       "</table>\n",
       "</div>"
      ],
      "text/plain": [
       "       TempLow  TempHigh  Evaporation    Sun  WindDir  WindSpeed  \\\n",
       "Label                                                              \n",
       "0.0      66375     66375        66375  66375    66375      66375   \n",
       "1.0      15765     15765        15765  15765    15765      15765   \n",
       "\n",
       "       WindSpeed9am  WindSpeed3pm  DayHumidity  NightHumidity  Pressure9am  \\\n",
       "Label                                                                        \n",
       "0.0           66375         66375        66375          66375        66375   \n",
       "1.0           15765         15765        15765          15765        15765   \n",
       "\n",
       "       Pressure3pm  DayCloud  NightCloud  Temp9am  Temp3pm  RISK_MM  \n",
       "Label                                                                \n",
       "0.0          66375     66375       66375    66375    66375    66375  \n",
       "1.0          15765     15765       15765    15765    15765    15765  "
      ]
     },
     "execution_count": 57,
     "metadata": {},
     "output_type": "execute_result"
    }
   ],
   "source": [
    "# 數據歸一化\n",
    "from sklearn.preprocessing import StandardScaler\n",
    "df = pd.DataFrame(StandardScaler().fit_transform(df))\n",
    "df.columns=col\n",
    "Label = Label.reset_index()\n",
    "df=pd.concat([df, Label], axis=1)\n",
    "df.drop([\"index\"],inplace=True,axis=1)\n",
    "df.groupby('Label').count()"
   ]
  },
  {
   "cell_type": "code",
   "execution_count": 58,
   "metadata": {},
   "outputs": [
    {
     "name": "stdout",
     "output_type": "stream",
     "text": [
      "----info----\n",
      "training data size: 37836\n",
      "testing data size: 9460\n"
     ]
    }
   ],
   "source": [
    "from sklearn.model_selection import train_test_split\n",
    "from sklearn.utils import shuffle\n",
    "X_train, X_test, y_train, y_test = train_test_split(\n",
    "    df.drop(columns = ['Label']).values[:train_end_idx, :],\n",
    "    df['Label'].values[:train_end_idx], test_size=0.2)\n",
    "X_ans = df.drop(columns = ['Label']).values[train_end_idx:, :]\n",
    "\n",
    "\n",
    "X_train,y_train=shuffle(X_train,y_train)\n",
    "\n",
    " \n",
    "print('----info----')\n",
    "print('training data size:', len(X_train))\n",
    "print('testing data size:', len(X_test))"
   ]
  },
  {
   "cell_type": "code",
   "execution_count": 59,
   "metadata": {},
   "outputs": [
    {
     "name": "stderr",
     "output_type": "stream",
     "text": [
      "/Users/wuguanzhi/opt/anaconda3/lib/python3.8/site-packages/sklearn/svm/_base.py:284: ConvergenceWarning: Solver terminated early (max_iter=2100).  Consider pre-processing your data with StandardScaler or MinMaxScaler.\n",
      "  warnings.warn(\n"
     ]
    },
    {
     "name": "stdout",
     "output_type": "stream",
     "text": [
      "Accuracy: 0.594292\n",
      "f1-score: 0.454054\n"
     ]
    }
   ],
   "source": [
    "# model 2:linear SVM\n",
    "\n",
    "from sklearn.svm import SVC\n",
    "from sklearn.metrics import accuracy_score, f1_score\n",
    "from sklearn.model_selection import cross_val_score\n",
    "svm_linear = SVC(kernel='linear', random_state=0,max_iter=2100,probability=True)\n",
    "\n",
    "#clf = LinearSVC(random_state=0, tol=1e-5,C=2)\n",
    "\n",
    "svm_linear.fit(X_train, y_train)\n",
    "\n",
    "y_pred_linear = svm_linear.predict(X_test)\n",
    "\n",
    "#y_predprob_linear = svm_linear.predict_proba(X_test)\n",
    "#y_predprob_po_linear =  y_predprob_linear[:,1]\n",
    "\n",
    "print('Accuracy: %f' % accuracy_score(y_test, y_pred_linear))\n",
    "print('f1-score: %f' % f1_score(y_test, y_pred_linear))"
   ]
  },
  {
   "cell_type": "code",
   "execution_count": 60,
   "metadata": {},
   "outputs": [
    {
     "name": "stdout",
     "output_type": "stream",
     "text": [
      "WindDir has been dropped， it coef \n",
      "TempHigh has been dropped， it coef \n",
      "NightCloud has been dropped， it coef \n",
      "Temp3pm has been dropped， it coef \n",
      "DayCloud has been dropped， it coef \n"
     ]
    }
   ],
   "source": [
    "def selectFeature(col,coef_):\n",
    "    min_list=[]\n",
    "    for i in range(len(col)):\n",
    "#         if abs(coef_[i])<0.015:\n",
    "#             min_list.append([col[i],abs(coef_[i])])\n",
    "        if len(min_list)<5:\n",
    "            min_list.append([col[i],abs(coef_[i])])\n",
    "            min_list.sort(reverse=True)   \n",
    "        else:\n",
    "            if abs(svm_linear.coef_.ravel()[i])<min_list[-1][1]:  \n",
    "                min_list[-1]=[col[i],abs(coef_[i])]\n",
    "                min_list=sorted(min_list,key=lambda min_list:min_list[1])\n",
    "    return min_list\n",
    "\n",
    "for i in selectFeature(df.columns.drop('Label'),svm_linear.coef_.ravel()):\n",
    "    df.drop([i[0]],inplace=True,axis=1)\n",
    "    print('%s has been dropped， it coef '%i[0])\n",
    "\n",
    "X_train, X_test, y_train, y_test = train_test_split(\n",
    "    df.drop(columns = ['Label']).values[:train_end_idx, :],\n",
    "    df['Label'].values[:train_end_idx], test_size=0.25)\n",
    "X_ans = df.drop(columns = ['Label']).values[train_end_idx:, :]\n",
    "\n",
    "\n",
    "X_train,y_train=shuffle(X_train,y_train)\n",
    "dbscan"
   ]
  },
  {
   "cell_type": "code",
   "execution_count": 61,
   "metadata": {},
   "outputs": [
    {
     "name": "stdout",
     "output_type": "stream",
     "text": [
      "before (82140, 13)\n",
      "after (82140, 2)\n"
     ]
    }
   ],
   "source": [
    "from sklearn.decomposition import PCA\n",
    "print(\"before\",df.shape)\n",
    "pca=PCA(n_components=2)\n",
    "df=pca.fit(df).transform(df)\n",
    "print(\"after\",df.shape)"
   ]
  },
  {
   "cell_type": "code",
   "execution_count": 62,
   "metadata": {},
   "outputs": [
    {
     "name": "stdout",
     "output_type": "stream",
     "text": [
      "Accuracy: 0.786282\n",
      "f1-score: 0.653503\n"
     ]
    }
   ],
   "source": [
    "from sklearn.ensemble import AdaBoostClassifier\n",
    "AdaBoost = AdaBoostClassifier(n_estimators=1000,random_state=42)\n",
    "#n_estimators:樹的數量\n",
    "AdaBoost.fit(X_train,y_train)\n",
    "y_pred_Ada = AdaBoost.predict(X_test)\n",
    "print('Accuracy: %f' % accuracy_score(y_test, y_pred_Ada))\n",
    "print('f1-score: %f' % f1_score(y_test, y_pred_Ada))"
   ]
  },
  {
   "cell_type": "code",
   "execution_count": 46,
   "metadata": {},
   "outputs": [],
   "source": [
    "ans_pred = AdaBoost.predict(X_ans)\n",
    "df_sap = pd.DataFrame(ans_pred.astype(int), columns = ['Label'])\n",
    "df_sap.to_csv('submission_Ada.csv',  index_label = 'Id')"
   ]
  },
  {
   "cell_type": "code",
   "execution_count": 29,
   "metadata": {},
   "outputs": [
    {
     "name": "stdout",
     "output_type": "stream",
     "text": [
      "Accuracy: 0.780785\n",
      "f1-score: 0.639198\n"
     ]
    }
   ],
   "source": [
    "from xgboost import XGBClassifier\n",
    "#xg=XGBClassifier(random_state=42)\n",
    "xg = XGBClassifier(colsample_bytree= 0.3, learning_rate=0.01, max_depth= 3, n_estimators=1000)\n",
    "xg.fit(X_train,y_train)\n",
    "y_pred_xg = xg.predict(X_test)\n",
    "print('Accuracy: %f' % accuracy_score(y_test, y_pred_xg))\n",
    "print('f1-score: %f' % f1_score(y_test, y_pred_xg))"
   ]
  },
  {
   "cell_type": "code",
   "execution_count": 30,
   "metadata": {},
   "outputs": [],
   "source": [
    "ans_pred = xg.predict(X_ans)\n",
    "df_sap = pd.DataFrame(ans_pred.astype(int), columns = ['Label'])\n",
    "df_sap.to_csv('submission_xg.csv',  index_label = 'Id')"
   ]
  },
  {
   "cell_type": "code",
   "execution_count": null,
   "metadata": {},
   "outputs": [],
   "source": []
  }
 ],
 "metadata": {
  "kernelspec": {
   "display_name": "Python 3",
   "language": "python",
   "name": "python3"
  },
  "language_info": {
   "codemirror_mode": {
    "name": "ipython",
    "version": 3
   },
   "file_extension": ".py",
   "mimetype": "text/x-python",
   "name": "python",
   "nbconvert_exporter": "python",
   "pygments_lexer": "ipython3",
   "version": "3.8.5"
  }
 },
 "nbformat": 4,
 "nbformat_minor": 4
}
