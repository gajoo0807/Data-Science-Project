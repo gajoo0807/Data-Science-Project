{
 "cells": [
  {
   "cell_type": "code",
   "execution_count": 1,
   "metadata": {},
   "outputs": [
    {
     "name": "stdout",
     "output_type": "stream",
     "text": [
      "Collecting box2d-py\n",
      "  Using cached box2d-py-2.3.8.tar.gz (374 kB)\n",
      "Building wheels for collected packages: box2d-py\n",
      "  Building wheel for box2d-py (setup.py) ... \u001b[?25lerror\n",
      "\u001b[31m  ERROR: Command errored out with exit status 1:\n",
      "   command: /Users/wuguanzhi/opt/anaconda3/bin/python -u -c 'import io, os, sys, setuptools, tokenize; sys.argv[0] = '\"'\"'/private/var/folders/70/v99kd1d53slby26ttklm00k00000gn/T/pip-install-eeb8fsh4/box2d-py_e1f0ac042adb46c9b9c7bcc4344244b3/setup.py'\"'\"'; __file__='\"'\"'/private/var/folders/70/v99kd1d53slby26ttklm00k00000gn/T/pip-install-eeb8fsh4/box2d-py_e1f0ac042adb46c9b9c7bcc4344244b3/setup.py'\"'\"';f = getattr(tokenize, '\"'\"'open'\"'\"', open)(__file__) if os.path.exists(__file__) else io.StringIO('\"'\"'from setuptools import setup; setup()'\"'\"');code = f.read().replace('\"'\"'\\r\\n'\"'\"', '\"'\"'\\n'\"'\"');f.close();exec(compile(code, __file__, '\"'\"'exec'\"'\"'))' bdist_wheel -d /private/var/folders/70/v99kd1d53slby26ttklm00k00000gn/T/pip-wheel-gljvw2sv\n",
      "       cwd: /private/var/folders/70/v99kd1d53slby26ttklm00k00000gn/T/pip-install-eeb8fsh4/box2d-py_e1f0ac042adb46c9b9c7bcc4344244b3/\n",
      "  Complete output (17 lines):\n",
      "  Using setuptools (version 50.3.1.post20201107).\n",
      "  running bdist_wheel\n",
      "  running build\n",
      "  running build_py\n",
      "  creating build\n",
      "  creating build/lib.macosx-10.9-x86_64-3.8\n",
      "  creating build/lib.macosx-10.9-x86_64-3.8/Box2D\n",
      "  copying library/Box2D/Box2D.py -> build/lib.macosx-10.9-x86_64-3.8/Box2D\n",
      "  copying library/Box2D/__init__.py -> build/lib.macosx-10.9-x86_64-3.8/Box2D\n",
      "  creating build/lib.macosx-10.9-x86_64-3.8/Box2D/b2\n",
      "  copying library/Box2D/b2/__init__.py -> build/lib.macosx-10.9-x86_64-3.8/Box2D/b2\n",
      "  running build_ext\n",
      "  building 'Box2D._Box2D' extension\n",
      "  swigging Box2D/Box2D.i to Box2D/Box2D_wrap.cpp\n",
      "  swig -python -c++ -IBox2D -small -O -includeall -ignoremissing -w201 -globals b2Globals -outdir library/Box2D -keyword -w511 -D_SWIG_KWARGS -o Box2D/Box2D_wrap.cpp Box2D/Box2D.i\n",
      "  unable to execute 'swig': No such file or directory\n",
      "  error: command 'swig' failed with exit status 1\n",
      "  ----------------------------------------\u001b[0m\n",
      "\u001b[31m  ERROR: Failed building wheel for box2d-py\u001b[0m\n",
      "\u001b[?25h  Running setup.py clean for box2d-py\n",
      "Failed to build box2d-py\n",
      "Installing collected packages: box2d-py\n",
      "    Running setup.py install for box2d-py ... \u001b[?25lerror\n",
      "\u001b[31m    ERROR: Command errored out with exit status 1:\n",
      "     command: /Users/wuguanzhi/opt/anaconda3/bin/python -u -c 'import io, os, sys, setuptools, tokenize; sys.argv[0] = '\"'\"'/private/var/folders/70/v99kd1d53slby26ttklm00k00000gn/T/pip-install-eeb8fsh4/box2d-py_e1f0ac042adb46c9b9c7bcc4344244b3/setup.py'\"'\"'; __file__='\"'\"'/private/var/folders/70/v99kd1d53slby26ttklm00k00000gn/T/pip-install-eeb8fsh4/box2d-py_e1f0ac042adb46c9b9c7bcc4344244b3/setup.py'\"'\"';f = getattr(tokenize, '\"'\"'open'\"'\"', open)(__file__) if os.path.exists(__file__) else io.StringIO('\"'\"'from setuptools import setup; setup()'\"'\"');code = f.read().replace('\"'\"'\\r\\n'\"'\"', '\"'\"'\\n'\"'\"');f.close();exec(compile(code, __file__, '\"'\"'exec'\"'\"'))' install --record /private/var/folders/70/v99kd1d53slby26ttklm00k00000gn/T/pip-record-zxb5mdxd/install-record.txt --single-version-externally-managed --compile --install-headers /Users/wuguanzhi/opt/anaconda3/include/python3.8/box2d-py\n",
      "         cwd: /private/var/folders/70/v99kd1d53slby26ttklm00k00000gn/T/pip-install-eeb8fsh4/box2d-py_e1f0ac042adb46c9b9c7bcc4344244b3/\n",
      "    Complete output (17 lines):\n",
      "    Using setuptools (version 50.3.1.post20201107).\n",
      "    running install\n",
      "    running build\n",
      "    running build_py\n",
      "    creating build\n",
      "    creating build/lib.macosx-10.9-x86_64-3.8\n",
      "    creating build/lib.macosx-10.9-x86_64-3.8/Box2D\n",
      "    copying library/Box2D/Box2D.py -> build/lib.macosx-10.9-x86_64-3.8/Box2D\n",
      "    copying library/Box2D/__init__.py -> build/lib.macosx-10.9-x86_64-3.8/Box2D\n",
      "    creating build/lib.macosx-10.9-x86_64-3.8/Box2D/b2\n",
      "    copying library/Box2D/b2/__init__.py -> build/lib.macosx-10.9-x86_64-3.8/Box2D/b2\n",
      "    running build_ext\n",
      "    building 'Box2D._Box2D' extension\n",
      "    swigging Box2D/Box2D.i to Box2D/Box2D_wrap.cpp\n",
      "    swig -python -c++ -IBox2D -small -O -includeall -ignoremissing -w201 -globals b2Globals -outdir library/Box2D -keyword -w511 -D_SWIG_KWARGS -o Box2D/Box2D_wrap.cpp Box2D/Box2D.i\n",
      "    unable to execute 'swig': No such file or directory\n",
      "    error: command 'swig' failed with exit status 1\n",
      "    ----------------------------------------\u001b[0m\n",
      "\u001b[31mERROR: Command errored out with exit status 1: /Users/wuguanzhi/opt/anaconda3/bin/python -u -c 'import io, os, sys, setuptools, tokenize; sys.argv[0] = '\"'\"'/private/var/folders/70/v99kd1d53slby26ttklm00k00000gn/T/pip-install-eeb8fsh4/box2d-py_e1f0ac042adb46c9b9c7bcc4344244b3/setup.py'\"'\"'; __file__='\"'\"'/private/var/folders/70/v99kd1d53slby26ttklm00k00000gn/T/pip-install-eeb8fsh4/box2d-py_e1f0ac042adb46c9b9c7bcc4344244b3/setup.py'\"'\"';f = getattr(tokenize, '\"'\"'open'\"'\"', open)(__file__) if os.path.exists(__file__) else io.StringIO('\"'\"'from setuptools import setup; setup()'\"'\"');code = f.read().replace('\"'\"'\\r\\n'\"'\"', '\"'\"'\\n'\"'\"');f.close();exec(compile(code, __file__, '\"'\"'exec'\"'\"'))' install --record /private/var/folders/70/v99kd1d53slby26ttklm00k00000gn/T/pip-record-zxb5mdxd/install-record.txt --single-version-externally-managed --compile --install-headers /Users/wuguanzhi/opt/anaconda3/include/python3.8/box2d-py Check the logs for full command output.\u001b[0m\n",
      "\u001b[?25hzsh:1: no matches found: gym[Box_2D]\n"
     ]
    }
   ],
   "source": [
    "!pip3 install box2d-py\n",
    "!pip3 install gym[Box_2D]\n",
    "import gym\n",
    "import torch\n",
    "import torch.nn as nn\n",
    "import torch.nn.functional as F\n",
    "import numpy as np\n",
    "import math\n",
    "from torch.distributions import Categorical\n",
    "import random\n",
    "from collections import namedtuple\n",
    "from tqdm import tqdm_notebook as tqdm\n"
   ]
  },
  {
   "cell_type": "code",
   "execution_count": 2,
   "metadata": {},
   "outputs": [
    {
     "name": "stderr",
     "output_type": "stream",
     "text": [
      "/Users/wuguanzhi/opt/anaconda3/lib/python3.8/site-packages/ipykernel/ipkernel.py:287: DeprecationWarning: `should_run_async` will not call `transform_cell` automatically in the future. Please pass the result to `transformed_cell` argument and any exception that happen during thetransform in `preprocessing_exc_tuple` in IPython 7.17 and above.\n",
      "  and should_run_async(code)\n"
     ]
    },
    {
     "name": "stdout",
     "output_type": "stream",
     "text": [
      "Requirement already satisfied: Box2D in /Users/wuguanzhi/opt/anaconda3/lib/python3.8/site-packages (2.3.10)\r\n"
     ]
    }
   ],
   "source": [
    "!pip install Box2D\n",
    "import Box2D"
   ]
  },
  {
   "cell_type": "code",
   "execution_count": 3,
   "metadata": {},
   "outputs": [
    {
     "name": "stdout",
     "output_type": "stream",
     "text": [
      "Requirement already satisfied: pygame in /Users/wuguanzhi/opt/anaconda3/lib/python3.8/site-packages (2.1.2)\n",
      "Requirement already satisfied: imageio in /Users/wuguanzhi/opt/anaconda3/lib/python3.8/site-packages (2.9.0)\n",
      "Requirement already satisfied: numpy in /Users/wuguanzhi/opt/anaconda3/lib/python3.8/site-packages (from imageio) (1.19.5)\n",
      "Requirement already satisfied: pillow in /Users/wuguanzhi/opt/anaconda3/lib/python3.8/site-packages (from imageio) (8.2.0)\n"
     ]
    }
   ],
   "source": [
    "!pip install pygame\n",
    "!pip install imageio\n",
    "import imageio"
   ]
  },
  {
   "cell_type": "code",
   "execution_count": 23,
   "metadata": {},
   "outputs": [],
   "source": [
    "env = gym.make('LunarLander-v2')\n",
    "# LunarLander-v2\n",
    "# CartPole-v1\n",
    "num_state = env.observation_space.shape[0]\n",
    "num_action = env.action_space.n"
   ]
  },
  {
   "cell_type": "code",
   "execution_count": 24,
   "metadata": {},
   "outputs": [
    {
     "ename": "SyntaxError",
     "evalue": "invalid syntax (<ipython-input-24-9ed28997a4fd>, line 9)",
     "output_type": "error",
     "traceback": [
      "\u001b[0;36m  File \u001b[0;32m\"<ipython-input-24-9ed28997a4fd>\"\u001b[0;36m, line \u001b[0;32m9\u001b[0m\n\u001b[0;31m    nn.LayerNorm(128),\u001b[0m\n\u001b[0m    ^\u001b[0m\n\u001b[0;31mSyntaxError\u001b[0m\u001b[0;31m:\u001b[0m invalid syntax\n"
     ]
    }
   ],
   "source": [
    "\n",
    "class network(nn.Module):\n",
    "    def __init__(self , num_state , num_action):\n",
    "        super().__init__()\n",
    "        self.layers=nn.Sequential(\n",
    "            nn.Linear(num_state , 64 ),\n",
    "            nn.LayerNorm(64),\n",
    "            nn.ReLU(),\n",
    "            nn.Linear(64 , 128)\n",
    "            nn.LayerNorm(128),\n",
    "            nn.ReLU(),\n",
    "            nn.Linear(128 , 32)\n",
    "            nn.LayerNorm(32),\n",
    "            nn.ReLU(),\n",
    "            nn.Linear(32 , num_action ),\n",
    "            nn.LayerNorm(num_action),\n",
    "            nn.Softmax()\n",
    "        )\n",
    "    def forward(self , x):\n",
    "        return self.layers(x)\n",
    "\n",
    "class ReplayBuffer(object):\n",
    "    '''\n",
    "    \n",
    "    This code is copied from openAI baselines\n",
    "    https://github.com/openai/baselines/blob/master/baselines/deepq/replay_buffer.py\n",
    "    '''\n",
    "    def __init__(self, size):\n",
    "        self._storage = []\n",
    "        self._maxsize = size\n",
    "        self._next_idx = 0\n",
    "\n",
    "    def __len__(self):\n",
    "        return len(self._storage)\n",
    "\n",
    "    def add(self, obs_t, action, reward, obs_tp1, done):\n",
    "        #將一個新的狀態append到storage中\n",
    "        data = (obs_t, action, reward, obs_tp1, done)\n",
    "\n",
    "        if self._next_idx >= len(self._storage):\n",
    "            self._storage.append(data)\n",
    "        else:\n",
    "            self._storage[self._next_idx] = data\n",
    "        self._next_idx = (self._next_idx + 1) % self._maxsize\n",
    "\n",
    "    def _encode_sample(self, idxes , dtype = np.float32):\n",
    "        \n",
    "        \n",
    "        obses_t, actions, rewards, obses_tp1, dones = [], [], [], [], []\n",
    "        for i in idxes:\n",
    "            data = self._storage[i]\n",
    "            obs_t, action, reward, obs_tp1, done = data\n",
    "            obses_t.append(np.array(obs_t, copy=False,dtype=dtype))\n",
    "            actions.append(np.array(action, copy=False,dtype=np.long))\n",
    "            rewards.append(reward)\n",
    "            obses_tp1.append(np.array(obs_tp1, copy=False,dtype=dtype))\n",
    "            dones.append(done)\n",
    "        return np.array(obses_t,dtype=dtype), np.array(actions , dtype = np.long), \\\n",
    "    np.array(rewards  ,dtype=dtype), np.array(obses_tp1,dtype=dtype), np.array(dones , dtype = bool)\n",
    "    \n",
    "    \n",
    "    def sample(self, batch_size):\n",
    "        idxes = [random.randint(0, len(self._storage) - 1) for _ in range(batch_size)]\n",
    "        return self._encode_sample(idxes)\n",
    "\n",
    "    \n",
    "class Agent():\n",
    "    \n",
    "    def __init__(self , num_state , num_action):\n",
    "        \n",
    "        \n",
    "        \n",
    "        self.policy_network = network(num_state , num_action)\n",
    "        self.target_network = network(num_state , num_action)\n",
    "        \n",
    "        self.target_network.load_state_dict(self.policy_network.state_dict())\n",
    "        \n",
    "        self.steps_done = 0\n",
    "        self.num_state = num_state\n",
    "        self.num_action = num_action\n",
    "        \n",
    "        self.EPS_END = 0.05\n",
    "        self.EPS_START = 0.999\n",
    "        \n",
    "        self.EPS_DECAY = 1000\n",
    "        self.batch_size = 64\n",
    "        self.buffer = ReplayBuffer( 4000 )\n",
    "        self.optimizer = torch.optim.Adam(self.policy_network.parameters()   , amsgrad=True)\n",
    "        \n",
    "    def take_action(self , x , is_testing = False ) :\n",
    "        eps_threshold = self.EPS_END + (self.EPS_START - self.EPS_END) * \\\n",
    "            math.exp(-1. * self.steps_done / self.EPS_DECAY)\n",
    "        \n",
    "        x = x.astype(np.float32)\n",
    "        x = torch.from_numpy(x)\n",
    "        rand_val = np.random.uniform()\n",
    "        if rand_val > eps_threshold or is_testing == True:\n",
    "            val = self.policy_network(x)\n",
    "            action = torch.argmax(val).item()\n",
    "            \n",
    "            \n",
    "        else:\n",
    "            action = np.random.randint(0 , self.num_action )\n",
    "        \n",
    "        if is_testing == False:\n",
    "            self.steps_done += 1\n",
    "        \n",
    "        return action\n",
    "            \n",
    "    \n",
    "    def store_transition(self, state , action , reward , next_state , done ):\n",
    "        \n",
    "        self.buffer.add(state , action , reward , next_state , done)\n",
    "    \n",
    "    def update_parameters(self):\n",
    "        \n",
    "        if len(self.buffer) < self.batch_size:\n",
    "            return \n",
    "        \n",
    "        loss_fn = torch.nn.MSELoss(reduction = 'mean')\n",
    "        \n",
    "        batch = self.buffer.sample(self.batch_size)\n",
    "        states , actions , rewards , next_states , dones = batch\n",
    "        states = torch.from_numpy(states)\n",
    "        actions = torch.from_numpy(actions).view(-1,1)\n",
    "        rewards = torch.from_numpy(rewards)\n",
    "        next_states = torch.from_numpy(next_states)\n",
    "        actions = actions.long()\n",
    "        \n",
    "        non_final_mask = torch.tensor(tuple(map(lambda s : s != True, dones)),dtype = torch.bool)\n",
    "        non_final_next_state = next_states[non_final_mask]\n",
    "        \n",
    "        \n",
    "        pred_q = self.policy_network(states).gather(1 , actions).view(-1) \n",
    "        \n",
    "        \n",
    "        next_state_value = torch.zeros(self.batch_size).detach()\n",
    "        next_state_value[non_final_mask] = self.target_network(non_final_next_state).max(1)[0]\n",
    "        expected_q = (next_state_value + rewards).detach()\n",
    "        \n",
    "        \n",
    "        loss = loss_fn(pred_q , expected_q)\n",
    "        \n",
    "        self.optimizer.zero_grad()\n",
    "        loss.backward()\n",
    "        self.optimizer.step()\n",
    "        \n",
    "    def update_target_weight(self):\n",
    "        self.target_network.load_state_dict(self.policy_network.state_dict())\n"
   ]
  },
  {
   "cell_type": "code",
   "execution_count": 25,
   "metadata": {},
   "outputs": [],
   "source": [
    "from PIL import Image\n",
    "import time\n",
    "def get_snap_shot(agent  , env_name = 'LunarLander-v2' , gif_filename = None):\n",
    "    try:\n",
    "        \n",
    "        if gif_filename != None:\n",
    "            frames = []\n",
    "        \n",
    "        env = gym.make(env_name)\n",
    "        state = env.reset()\n",
    "        done = False\n",
    "        rew_sum = 0.0\n",
    "        while done == False:\n",
    "            if gif_filename != None:\n",
    "                frames.append(Image.fromarray(env.render(mode='rgb_array')))\n",
    "            else:\n",
    "                env.render()\n",
    "            action = agent.take_action(state , is_testing = True)\n",
    "            next_state , reward , done , _ = env.step(action)\n",
    "            rew_sum += reward\n",
    "            state = next_state[:]\n",
    "        print('total reward',rew_sum)\n",
    "        if gif_filename != None:\n",
    "          imageio.mimsave(gif_filename, frames, fps=50)\n",
    "          time.sleep(1.5)  \n",
    "#         if gif_filename != None:\n",
    "#             with open(gif_filename,'wb') as f:\n",
    "#                 im = Image.new('RGB', frames[0].size)\n",
    "#                 im.save(f, save_all=True, append_images=frames)\n",
    "#         time.sleep(1.5) #Prevent kernel dead\n",
    "        \n",
    "    finally:\n",
    "        env.close()\n",
    "        \n",
    "        "
   ]
  },
  {
   "cell_type": "code",
   "execution_count": 28,
   "metadata": {
    "scrolled": false
   },
   "outputs": [
    {
     "name": "stderr",
     "output_type": "stream",
     "text": [
      "<ipython-input-28-4e4a118281cd>:5: TqdmDeprecationWarning: This function will be removed in tqdm==5.0.0\n",
      "Please use `tqdm.notebook.tqdm` instead of `tqdm.tqdm_notebook`\n",
      "  for e in tqdm(range(1501)):\n"
     ]
    },
    {
     "data": {
      "application/vnd.jupyter.widget-view+json": {
       "model_id": "d9ddf2dc90d540d5a67f3600319993c1",
       "version_major": 2,
       "version_minor": 0
      },
      "text/plain": [
       "HBox(children=(HTML(value=''), FloatProgress(value=0.0, max=1501.0), HTML(value='')))"
      ]
     },
     "metadata": {},
     "output_type": "display_data"
    },
    {
     "name": "stderr",
     "output_type": "stream",
     "text": [
      "<ipython-input-5-8eb9d43722b0>:127: DeprecationWarning: In future, it will be an error for 'np.bool_' scalars to be interpreted as an index\n",
      "  non_final_mask = torch.tensor(tuple(map(lambda s : s != True, dones)),dtype = torch.bool)\n"
     ]
    },
    {
     "name": "stdout",
     "output_type": "stream",
     "text": [
      "total reward -571.0321277011717\n",
      "total reward -416.6286194670803\n",
      "total reward 269.71108909360885\n",
      "total reward -27.722313255364952\n",
      "total reward -107.65654793750697\n",
      "total reward -51.32700121763695\n",
      "total reward -83.2681207190635\n",
      "total reward -25.333604731074217\n",
      "total reward -48.81880867719002\n",
      "total reward 144.1776936517992\n",
      "total reward -173.27900603501982\n",
      "total reward -14.61475128743278\n",
      "total reward 215.48923198834086\n",
      "total reward -377.65694533808016\n",
      "total reward -107.92936335841048\n",
      "total reward 240.09077946456182\n",
      "total reward -275.244986681795\n",
      "total reward -27.122924151947277\n",
      "total reward 277.1606802299111\n",
      "total reward 279.8247364601316\n",
      "total reward 139.34036239962091\n",
      "total reward 256.3741095738661\n",
      "total reward 248.92177833428693\n",
      "total reward 280.14341227441207\n",
      "total reward 60.47834273974928\n",
      "total reward -190.10538923856396\n",
      "total reward 277.0409279491415\n",
      "total reward 252.49672510304305\n",
      "total reward 200.60378754758335\n",
      "total reward 233.78947244659327\n",
      "total reward 244.246612845319\n",
      "\n"
     ]
    }
   ],
   "source": [
    "agent = Agent(num_state , num_action)\n",
    "reward_history = []\n",
    "try:\n",
    "    env = gym.make('LunarLander-v2')\n",
    "    for e in tqdm(range(1501)):\n",
    "        state = env.reset()\n",
    "        done = False\n",
    "        reward_sum = 0.0\n",
    "        while done == False:\n",
    "            \n",
    "            action = agent.take_action(state)\n",
    "            next_state , reward , done , _ = env.step(action)\n",
    "            reward_sum += reward\n",
    "            agent.store_transition( state , action , reward , next_state , done )\n",
    "            state = next_state[:]\n",
    "            agent.update_parameters()\n",
    "            \n",
    "        reward_history.append(reward_sum)\n",
    "        if e  % 50 == 0:\n",
    "            get_snap_shot(agent = agent , gif_filename='episode_{}.gif'.format(e))\n",
    "            #get_snap_shot(agent = agent)\n",
    "        if e > 0 and e % 20 == 0:\n",
    "            agent.update_target_weight()\n",
    "finally:\n",
    "    env.close()"
   ]
  },
  {
   "cell_type": "code",
   "execution_count": 29,
   "metadata": {},
   "outputs": [
    {
     "data": {
      "text/plain": [
       "[<matplotlib.lines.Line2D at 0x7fc046c68c10>]"
      ]
     },
     "execution_count": 29,
     "metadata": {},
     "output_type": "execute_result"
    },
    {
     "data": {
      "image/png": "[encoded data removed]",
      "text/plain": [
       "<Figure size 432x288 with 1 Axes>"
      ]
     },
     "metadata": {
      "needs_background": "light"
     },
     "output_type": "display_data"
    }
   ],
   "source": [
    "import matplotlib.pyplot as plt\n",
    "plt.plot(reward_history)"
   ]
  },
  {
   "cell_type": "code",
   "execution_count": null,
   "metadata": {},
   "outputs": [],
   "source": []
  }
 ],
 "metadata": {
  "kernelspec": {
   "display_name": "Python 3",
   "language": "python",
   "name": "python3"
  },
  "language_info": {
   "codemirror_mode": {
    "name": "ipython",
    "version": 3
   },
   "file_extension": ".py",
   "mimetype": "text/x-python",
   "name": "python",
   "nbconvert_exporter": "python",
   "pygments_lexer": "ipython3",
   "version": "3.8.5"
  }
 },
 "nbformat": 4,
 "nbformat_minor": 2
}
